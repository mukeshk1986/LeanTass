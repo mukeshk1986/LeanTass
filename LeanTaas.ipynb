{
 "cells": [
  {
   "cell_type": "markdown",
   "metadata": {},
   "source": [
    "## <u><center>LeanTaas Data Analysis for Operating Room Utilization</center></u>"
   ]
  },
  {
   "cell_type": "markdown",
   "metadata": {},
   "source": [
    "### <u>Assumptions/Calculations:</u>\n",
    "\n",
    "#####  Response time- time to reply on each action of the same parentid or Exchange request\n",
    "##### 2. Surgeon and Room no. is unchanged for exchange cycle\n",
    "##### 3. Transaction id is unique for each individual entry\n",
    "##### 4. Rejection/denial Rate-100* no. of rejected request/(total no. of request)\n",
    "##### 5. Approval Rate-100* no. of approved request/(total no. of request)\n",
    "##### 6. I assume that there is either approve or reject of every echange request\n",
    "##### 7. In Some exchange, starting transactions i.e. 'Request Entries' are missing and we are not validating the data\n",
    "##### 8. approve_transfer,approve_request is considered as approved exchange\n",
    "##### 9. deny_transfer,deny_request, deny_realease is considered as denial exchange"
   ]
  },
  {
   "cell_type": "markdown",
   "metadata": {},
   "source": [
    "#### List of used library- pandas, numpy, sqlalchemy ,matplotlib, datetime:"
   ]
  },
  {
   "cell_type": "code",
   "execution_count": 51,
   "metadata": {},
   "outputs": [],
   "source": [
    "import pandas as pd\n",
    "import numpy as np\n",
    "from sqlalchemy import create_engine\n",
    "from matplotlib import pyplot\n",
    "from matplotlib import pyplot as plt\n",
    "import warnings\n",
    "warnings.filterwarnings(\"ignore\")\n",
    "import datetime as dt\n",
    "import seaborn as sns"
   ]
  },
  {
   "cell_type": "code",
   "execution_count": 52,
   "metadata": {},
   "outputs": [],
   "source": [
    "disk_engine = create_engine('sqlite:///LeanTaaSTestDB.db')"
   ]
  },
  {
   "cell_type": "markdown",
   "metadata": {},
   "source": [
    "### Explore, Clean and Prepare Data"
   ]
  },
  {
   "cell_type": "code",
   "execution_count": 53,
   "metadata": {},
   "outputs": [
    {
     "data": {
      "text/html": [
       "<div>\n",
       "<style scoped>\n",
       "    .dataframe tbody tr th:only-of-type {\n",
       "        vertical-align: middle;\n",
       "    }\n",
       "\n",
       "    .dataframe tbody tr th {\n",
       "        vertical-align: top;\n",
       "    }\n",
       "\n",
       "    .dataframe thead th {\n",
       "        text-align: right;\n",
       "    }\n",
       "</style>\n",
       "<table border=\"1\" class=\"dataframe\">\n",
       "  <thead>\n",
       "    <tr style=\"text-align: right;\">\n",
       "      <th></th>\n",
       "      <th>transaction_id</th>\n",
       "      <th>parent_transaction_id</th>\n",
       "      <th>action</th>\n",
       "      <th>scheduler</th>\n",
       "      <th>surgeon</th>\n",
       "      <th>created_datetime</th>\n",
       "      <th>snapshot_date</th>\n",
       "      <th>start_time</th>\n",
       "      <th>end_time</th>\n",
       "      <th>room_name</th>\n",
       "      <th>location</th>\n",
       "    </tr>\n",
       "  </thead>\n",
       "  <tbody>\n",
       "    <tr>\n",
       "      <td>0</td>\n",
       "      <td>2c91808267d2ea5301682f73e9a1093e</td>\n",
       "      <td>None</td>\n",
       "      <td>RELEASE</td>\n",
       "      <td>Jessie Shelley</td>\n",
       "      <td>Bryan Neer</td>\n",
       "      <td>2019-01-15 13:52:32.000000</td>\n",
       "      <td>2019-07-01 00:00:00.000000</td>\n",
       "      <td>07:30:00</td>\n",
       "      <td>19:00:00</td>\n",
       "      <td>MRAH OR 03</td>\n",
       "      <td>CENTER</td>\n",
       "    </tr>\n",
       "    <tr>\n",
       "      <td>1</td>\n",
       "      <td>2c91808267d2ea5301683984e52b0bfb</td>\n",
       "      <td>None</td>\n",
       "      <td>TRANSFER</td>\n",
       "      <td>Raymond Smith</td>\n",
       "      <td>Charles Mcdonald</td>\n",
       "      <td>2019-01-17 12:47:17.000000</td>\n",
       "      <td>2019-06-20 00:00:00.000000</td>\n",
       "      <td>07:30:00</td>\n",
       "      <td>19:00:00</td>\n",
       "      <td>MRAH OR 06</td>\n",
       "      <td>CENTER</td>\n",
       "    </tr>\n",
       "  </tbody>\n",
       "</table>\n",
       "</div>"
      ],
      "text/plain": [
       "                     transaction_id parent_transaction_id    action  \\\n",
       "0  2c91808267d2ea5301682f73e9a1093e                  None   RELEASE   \n",
       "1  2c91808267d2ea5301683984e52b0bfb                  None  TRANSFER   \n",
       "\n",
       "        scheduler           surgeon            created_datetime  \\\n",
       "0  Jessie Shelley        Bryan Neer  2019-01-15 13:52:32.000000   \n",
       "1   Raymond Smith  Charles Mcdonald  2019-01-17 12:47:17.000000   \n",
       "\n",
       "                snapshot_date start_time  end_time   room_name location  \n",
       "0  2019-07-01 00:00:00.000000   07:30:00  19:00:00  MRAH OR 03   CENTER  \n",
       "1  2019-06-20 00:00:00.000000   07:30:00  19:00:00  MRAH OR 06   CENTER  "
      ]
     },
     "execution_count": 53,
     "metadata": {},
     "output_type": "execute_result"
    }
   ],
   "source": [
    "df_txn_all = pd.read_sql_query('SELECT * from exchange_transactions', disk_engine)\n",
    "df_txn_all.head(2)\n",
    "#df_txn_all.to_csv('LeanTass1.csv')"
   ]
  },
  {
   "cell_type": "markdown",
   "metadata": {},
   "source": [
    "#### Understanding of various features(columns) of the dataset:"
   ]
  },
  {
   "cell_type": "code",
   "execution_count": 4,
   "metadata": {},
   "outputs": [
    {
     "data": {
      "text/html": [
       "<div>\n",
       "<style scoped>\n",
       "    .dataframe tbody tr th:only-of-type {\n",
       "        vertical-align: middle;\n",
       "    }\n",
       "\n",
       "    .dataframe tbody tr th {\n",
       "        vertical-align: top;\n",
       "    }\n",
       "\n",
       "    .dataframe thead th {\n",
       "        text-align: right;\n",
       "    }\n",
       "</style>\n",
       "<table border=\"1\" class=\"dataframe\">\n",
       "  <thead>\n",
       "    <tr style=\"text-align: right;\">\n",
       "      <th></th>\n",
       "      <th>transaction_id</th>\n",
       "      <th>parent_transaction_id</th>\n",
       "      <th>action</th>\n",
       "      <th>scheduler</th>\n",
       "      <th>surgeon</th>\n",
       "      <th>created_datetime</th>\n",
       "      <th>snapshot_date</th>\n",
       "      <th>start_time</th>\n",
       "      <th>end_time</th>\n",
       "      <th>room_name</th>\n",
       "      <th>location</th>\n",
       "    </tr>\n",
       "  </thead>\n",
       "  <tbody>\n",
       "    <tr>\n",
       "      <td>count</td>\n",
       "      <td>6965</td>\n",
       "      <td>4176</td>\n",
       "      <td>6965</td>\n",
       "      <td>6965</td>\n",
       "      <td>6965</td>\n",
       "      <td>6965</td>\n",
       "      <td>6965</td>\n",
       "      <td>6965</td>\n",
       "      <td>6965</td>\n",
       "      <td>4376</td>\n",
       "      <td>6965</td>\n",
       "    </tr>\n",
       "    <tr>\n",
       "      <td>unique</td>\n",
       "      <td>6935</td>\n",
       "      <td>2772</td>\n",
       "      <td>9</td>\n",
       "      <td>275</td>\n",
       "      <td>357</td>\n",
       "      <td>6823</td>\n",
       "      <td>65</td>\n",
       "      <td>64</td>\n",
       "      <td>76</td>\n",
       "      <td>95</td>\n",
       "      <td>7</td>\n",
       "    </tr>\n",
       "    <tr>\n",
       "      <td>top</td>\n",
       "      <td>2c9180826bda4bbe016bfb17f1fe0e0a</td>\n",
       "      <td>2c9180826bda4bbe016bfb17f1fe0e0a</td>\n",
       "      <td>MARK_UPDATED</td>\n",
       "      <td>Debra Selman</td>\n",
       "      <td>Daniel Finney</td>\n",
       "      <td>2019-07-09 11:13:53.000000</td>\n",
       "      <td>2019-06-28 00:00:00.000000</td>\n",
       "      <td>07:30:00</td>\n",
       "      <td>19:00:00</td>\n",
       "      <td>MRHOR 03</td>\n",
       "      <td>MRAH OR</td>\n",
       "    </tr>\n",
       "    <tr>\n",
       "      <td>freq</td>\n",
       "      <td>4</td>\n",
       "      <td>4</td>\n",
       "      <td>2576</td>\n",
       "      <td>485</td>\n",
       "      <td>135</td>\n",
       "      <td>4</td>\n",
       "      <td>189</td>\n",
       "      <td>2054</td>\n",
       "      <td>1696</td>\n",
       "      <td>117</td>\n",
       "      <td>2205</td>\n",
       "    </tr>\n",
       "  </tbody>\n",
       "</table>\n",
       "</div>"
      ],
      "text/plain": [
       "                          transaction_id             parent_transaction_id  \\\n",
       "count                               6965                              4176   \n",
       "unique                              6935                              2772   \n",
       "top     2c9180826bda4bbe016bfb17f1fe0e0a  2c9180826bda4bbe016bfb17f1fe0e0a   \n",
       "freq                                   4                                 4   \n",
       "\n",
       "              action     scheduler        surgeon            created_datetime  \\\n",
       "count           6965          6965           6965                        6965   \n",
       "unique             9           275            357                        6823   \n",
       "top     MARK_UPDATED  Debra Selman  Daniel Finney  2019-07-09 11:13:53.000000   \n",
       "freq            2576           485            135                           4   \n",
       "\n",
       "                     snapshot_date start_time  end_time room_name location  \n",
       "count                         6965       6965      6965      4376     6965  \n",
       "unique                          65         64        76        95        7  \n",
       "top     2019-06-28 00:00:00.000000   07:30:00  19:00:00  MRHOR 03  MRAH OR  \n",
       "freq                           189       2054      1696       117     2205  "
      ]
     },
     "execution_count": 4,
     "metadata": {},
     "output_type": "execute_result"
    }
   ],
   "source": [
    "df_txn_all.describe()"
   ]
  },
  {
   "cell_type": "code",
   "execution_count": 54,
   "metadata": {},
   "outputs": [
    {
     "name": "stdout",
     "output_type": "stream",
     "text": [
      "<class 'pandas.core.frame.DataFrame'>\n",
      "RangeIndex: 6965 entries, 0 to 6964\n",
      "Data columns (total 11 columns):\n",
      "transaction_id           6965 non-null object\n",
      "parent_transaction_id    4176 non-null object\n",
      "action                   6965 non-null object\n",
      "scheduler                6965 non-null object\n",
      "surgeon                  6965 non-null object\n",
      "created_datetime         6965 non-null object\n",
      "snapshot_date            6965 non-null object\n",
      "start_time               6965 non-null object\n",
      "end_time                 6965 non-null object\n",
      "room_name                4376 non-null object\n",
      "location                 6965 non-null object\n",
      "dtypes: object(11)\n",
      "memory usage: 598.7+ KB\n"
     ]
    }
   ],
   "source": [
    "df_txn_all.info()"
   ]
  },
  {
   "cell_type": "markdown",
   "metadata": {},
   "source": [
    "#### Checking of surgeon duplication during the exchange transaction assumption#1"
   ]
  },
  {
   "cell_type": "code",
   "execution_count": 55,
   "metadata": {},
   "outputs": [
    {
     "name": "stdout",
     "output_type": "stream",
     "text": [
      "The number of records with surgent count more than 1 for single Exchage cycle- Empty DataFrame\n",
      "Columns: [parent_transaction_id, cnt]\n",
      "Index: []\n"
     ]
    },
    {
     "data": {
      "text/plain": [
       "2c9180826c2b12fa016c48afe8770d7c    1\n",
       "2c9180826abd7454016ac0a394f400c1    1\n",
       "2c9180826ae1b1f5016ae5ae61a901ef    1\n",
       "2c9180826c49ffa1016c538ed59f0b8d    1\n",
       "2c9180826abd7454016ac6796add05dd    1\n",
       "                                   ..\n",
       "2c9180826aa811ea016abccc4ba60db9    1\n",
       "2c9180826c01e38b016c1f9bbbc31127    1\n",
       "2c9180826a51a332016a551f103c00bf    1\n",
       "2c9180826ba0b46c016bb34189b8082a    1\n",
       "2c9180826ae7994d016b0949e8190e39    1\n",
       "Name: parent_transaction_id, Length: 2772, dtype: int64"
      ]
     },
     "execution_count": 55,
     "metadata": {},
     "output_type": "execute_result"
    }
   ],
   "source": [
    "df_surg_dup = pd.read_sql_query('SELECT parent_transaction_id,count(distinct surgeon) cnt from exchange_transactions where parent_transaction_id is not null group by parent_transaction_id order by parent_transaction_id', disk_engine)\n",
    "#print('The number of repeated transaction is ',df_surg_dup.cnt.sum()-df_surg_dup.parent_transaction_id.count())\n",
    "print('The number of records with surgent count more than 1 for single Exchage cycle-',df_surg_dup[df_surg_dup['cnt']>1])\n",
    "df_surg_dup.parent_transaction_id.value_counts()"
   ]
  },
  {
   "cell_type": "markdown",
   "metadata": {},
   "source": [
    "#### Conclusion : No duplicate found"
   ]
  },
  {
   "cell_type": "markdown",
   "metadata": {},
   "source": [
    "#### Checking duplicates based on transaction_id of assumption#3"
   ]
  },
  {
   "cell_type": "code",
   "execution_count": 56,
   "metadata": {},
   "outputs": [
    {
     "name": "stdout",
     "output_type": "stream",
     "text": [
      "There are 30/6965 duplicated records.\n"
     ]
    }
   ],
   "source": [
    "n_duplicated = df_txn_all.duplicated(subset=['transaction_id']).sum()\n",
    "print(\"There are {}/{} duplicated records.\".format(n_duplicated, df_txn_all.shape[0]))"
   ]
  },
  {
   "cell_type": "markdown",
   "metadata": {},
   "source": [
    "#### The above analysis shows that there are 30 duplicate entries and to cross check the same using the sqlite data source"
   ]
  },
  {
   "cell_type": "code",
   "execution_count": 57,
   "metadata": {},
   "outputs": [
    {
     "name": "stdout",
     "output_type": "stream",
     "text": [
      "The number of repeated transaction is  30\n"
     ]
    }
   ],
   "source": [
    "df_txn_dup = pd.read_sql_query('SELECT *,count(*) cnt from exchange_transactions group by transaction_id HAVING count(*)>1 order by transaction_id', disk_engine)\n",
    "print('The number of repeated transaction is ',df_txn_dup.cnt.sum()-df_txn_dup.transaction_id.count())\n",
    "#df_txn_dup[['transaction_id','cnt']].head()"
   ]
  },
  {
   "cell_type": "markdown",
   "metadata": {},
   "source": [
    "### Visulizing the duplicate transaction and their frequency"
   ]
  },
  {
   "cell_type": "code",
   "execution_count": 9,
   "metadata": {},
   "outputs": [
    {
     "data": {
      "image/png": "[encoded data removed]",
      "text/plain": [
       "<Figure size 432x288 with 1 Axes>"
      ]
     },
     "metadata": {
      "needs_background": "light"
     },
     "output_type": "display_data"
    }
   ],
   "source": [
    "txn_id = df_txn_dup['transaction_id']\n",
    "y_pos = np.arange(len(txn_id))\n",
    "repeat = df_txn_dup['cnt']\n",
    "\n",
    "plt.barh(y_pos, repeat, align='center', alpha=1)\n",
    "plt.yticks(y_pos, txn_id)\n",
    "plt.xlabel('Repeated Times')\n",
    "plt.ylabel('Transaction Ids')\n",
    "plt.title('Frequency of Transaction Id')\n",
    "plt.show()"
   ]
  },
  {
   "cell_type": "markdown",
   "metadata": {},
   "source": [
    "#### Conclusion: 30 duplicate transactions has to be removed "
   ]
  },
  {
   "cell_type": "code",
   "execution_count": 58,
   "metadata": {},
   "outputs": [
    {
     "name": "stdout",
     "output_type": "stream",
     "text": [
      "6935 records after dropping duplicated.\n"
     ]
    }
   ],
   "source": [
    "df_no_dup = df_txn_all.drop(df_txn_all.index[df_txn_all.transaction_id.duplicated()], axis=0)\n",
    "print(\"{} records after dropping duplicated.\".format(df_no_dup.shape[0]))\n",
    "#df_txn_all.to_csv('LeanTass.csv')"
   ]
  },
  {
   "cell_type": "code",
   "execution_count": 59,
   "metadata": {},
   "outputs": [
    {
     "data": {
      "text/html": [
       "<div>\n",
       "<style scoped>\n",
       "    .dataframe tbody tr th:only-of-type {\n",
       "        vertical-align: middle;\n",
       "    }\n",
       "\n",
       "    .dataframe tbody tr th {\n",
       "        vertical-align: top;\n",
       "    }\n",
       "\n",
       "    .dataframe thead th {\n",
       "        text-align: right;\n",
       "    }\n",
       "</style>\n",
       "<table border=\"1\" class=\"dataframe\">\n",
       "  <thead>\n",
       "    <tr style=\"text-align: right;\">\n",
       "      <th></th>\n",
       "      <th>transaction_id</th>\n",
       "      <th>parent_transaction_id</th>\n",
       "      <th>action</th>\n",
       "      <th>scheduler</th>\n",
       "      <th>surgeon</th>\n",
       "      <th>created_datetime</th>\n",
       "      <th>snapshot_date</th>\n",
       "      <th>start_time</th>\n",
       "      <th>end_time</th>\n",
       "      <th>room_name</th>\n",
       "      <th>location</th>\n",
       "    </tr>\n",
       "  </thead>\n",
       "  <tbody>\n",
       "    <tr>\n",
       "      <td>0</td>\n",
       "      <td>2c91808267d2ea5301682f73e9a1093e</td>\n",
       "      <td>2c91808267d2ea5301682f73e9a1093e</td>\n",
       "      <td>RELEASE</td>\n",
       "      <td>Jessie Shelley</td>\n",
       "      <td>Bryan Neer</td>\n",
       "      <td>2019-01-15 13:52:32.000000</td>\n",
       "      <td>2019-07-01 00:00:00.000000</td>\n",
       "      <td>07:30:00</td>\n",
       "      <td>19:00:00</td>\n",
       "      <td>MRAH OR 03</td>\n",
       "      <td>CENTER</td>\n",
       "    </tr>\n",
       "    <tr>\n",
       "      <td>1</td>\n",
       "      <td>2c91808267d2ea5301683984e52b0bfb</td>\n",
       "      <td>2c91808267d2ea5301683984e52b0bfb</td>\n",
       "      <td>TRANSFER</td>\n",
       "      <td>Raymond Smith</td>\n",
       "      <td>Charles Mcdonald</td>\n",
       "      <td>2019-01-17 12:47:17.000000</td>\n",
       "      <td>2019-06-20 00:00:00.000000</td>\n",
       "      <td>07:30:00</td>\n",
       "      <td>19:00:00</td>\n",
       "      <td>MRAH OR 06</td>\n",
       "      <td>CENTER</td>\n",
       "    </tr>\n",
       "  </tbody>\n",
       "</table>\n",
       "</div>"
      ],
      "text/plain": [
       "                     transaction_id             parent_transaction_id  \\\n",
       "0  2c91808267d2ea5301682f73e9a1093e  2c91808267d2ea5301682f73e9a1093e   \n",
       "1  2c91808267d2ea5301683984e52b0bfb  2c91808267d2ea5301683984e52b0bfb   \n",
       "\n",
       "     action       scheduler           surgeon            created_datetime  \\\n",
       "0   RELEASE  Jessie Shelley        Bryan Neer  2019-01-15 13:52:32.000000   \n",
       "1  TRANSFER   Raymond Smith  Charles Mcdonald  2019-01-17 12:47:17.000000   \n",
       "\n",
       "                snapshot_date start_time  end_time   room_name location  \n",
       "0  2019-07-01 00:00:00.000000   07:30:00  19:00:00  MRAH OR 03   CENTER  \n",
       "1  2019-06-20 00:00:00.000000   07:30:00  19:00:00  MRAH OR 06   CENTER  "
      ]
     },
     "execution_count": 59,
     "metadata": {},
     "output_type": "execute_result"
    }
   ],
   "source": [
    "df_no_dup.parent_transaction_id.fillna(df_no_dup.transaction_id, inplace = True) \n",
    "df_no_dup.head(2)"
   ]
  },
  {
   "cell_type": "markdown",
   "metadata": {},
   "source": [
    "#### Surgeon wise Exchange Reuest analysis"
   ]
  },
  {
   "cell_type": "code",
   "execution_count": 118,
   "metadata": {},
   "outputs": [
    {
     "name": "stdout",
     "output_type": "stream",
     "text": [
      "Total Exchange Requests: 6935\n"
     ]
    }
   ],
   "source": [
    "print('Total Exchange Requests:',df_no_dup.surgeon.count())#1179"
   ]
  },
  {
   "cell_type": "code",
   "execution_count": 127,
   "metadata": {},
   "outputs": [
    {
     "name": "stdout",
     "output_type": "stream",
     "text": [
      "Total number of Unique request by Surgeon  357\n"
     ]
    }
   ],
   "source": [
    "print('Total number of Unique request by Surgeon ',len(df_no_dup['surgeon'].unique().tolist()))"
   ]
  },
  {
   "cell_type": "code",
   "execution_count": 126,
   "metadata": {},
   "outputs": [
    {
     "name": "stdout",
     "output_type": "stream",
     "text": [
      "15 Surgeons have requested more than 50 times.\n"
     ]
    }
   ],
   "source": [
    "df1=df_no_dup\n",
    "print(len(df1[df1['count']>50].surgeon.unique().tolist()),'Surgeons have requested more than 50 times.')"
   ]
  },
  {
   "cell_type": "code",
   "execution_count": 131,
   "metadata": {},
   "outputs": [
    {
     "name": "stdout",
     "output_type": "stream",
     "text": [
      "Daniel Finney        135\n",
      "Gordon Dombrowski    108\n",
      "Scott Nash            99\n",
      "Holly Firkins         93\n",
      "Richard Smith         90\n",
      "Dorothy Shaver        89\n",
      "Twanna May            71\n",
      "Richard Estes         69\n",
      "Dulce Graves          68\n",
      "Marty Flores          66\n",
      "Berneice Rodregez     63\n",
      "Manuel Winfrey        61\n",
      "Joyce Belair          60\n",
      "Gregory Hunt          54\n",
      "Charles Mcdonald      53\n",
      "Name: surgeon, dtype: int64\n"
     ]
    },
    {
     "data": {
      "image/png": "[encoded data removed]",
      "text/plain": [
       "<Figure size 432x288 with 1 Axes>"
      ]
     },
     "metadata": {
      "needs_background": "light"
     },
     "output_type": "display_data"
    }
   ],
   "source": [
    "print(df1[df1['count']>50].surgeon.value_counts())\n",
    "plt.xticks(rotation=90)\n",
    "plt.xlabel('Surgeons--------->')\n",
    "plt.ylabel('Number of Requests------>')\n",
    "plt.title('<--List of Surgeons:More than 50 times request---->')\n",
    "plt.plot(df1[df1['count']>50].surgeon.value_counts())\n",
    "plt.show()"
   ]
  },
  {
   "cell_type": "markdown",
   "metadata": {},
   "source": [
    "#### Calculating response time:\n",
    "##### 1. Creating a new colum named prev_datetime\n",
    "##### 2. Creating a new column to hold the differnce of created_datetime and prev_datetime as response_time "
   ]
  },
  {
   "cell_type": "code",
   "execution_count": 60,
   "metadata": {},
   "outputs": [
    {
     "data": {
      "text/html": [
       "<div>\n",
       "<style scoped>\n",
       "    .dataframe tbody tr th:only-of-type {\n",
       "        vertical-align: middle;\n",
       "    }\n",
       "\n",
       "    .dataframe tbody tr th {\n",
       "        vertical-align: top;\n",
       "    }\n",
       "\n",
       "    .dataframe thead th {\n",
       "        text-align: right;\n",
       "    }\n",
       "</style>\n",
       "<table border=\"1\" class=\"dataframe\">\n",
       "  <thead>\n",
       "    <tr style=\"text-align: right;\">\n",
       "      <th></th>\n",
       "      <th>transaction_id</th>\n",
       "      <th>parent_transaction_id</th>\n",
       "      <th>action</th>\n",
       "      <th>scheduler</th>\n",
       "      <th>surgeon</th>\n",
       "      <th>created_datetime</th>\n",
       "      <th>snapshot_date</th>\n",
       "      <th>start_time</th>\n",
       "      <th>end_time</th>\n",
       "      <th>room_name</th>\n",
       "      <th>location</th>\n",
       "      <th>prev_datetime</th>\n",
       "    </tr>\n",
       "  </thead>\n",
       "  <tbody>\n",
       "    <tr>\n",
       "      <td>0</td>\n",
       "      <td>2c91808267d2ea5301682f73e9a1093e</td>\n",
       "      <td>2c91808267d2ea5301682f73e9a1093e</td>\n",
       "      <td>RELEASE</td>\n",
       "      <td>Jessie Shelley</td>\n",
       "      <td>Bryan Neer</td>\n",
       "      <td>2019-01-15 13:52:32.000000</td>\n",
       "      <td>2019-07-01 00:00:00.000000</td>\n",
       "      <td>07:30:00</td>\n",
       "      <td>19:00:00</td>\n",
       "      <td>MRAH OR 03</td>\n",
       "      <td>CENTER</td>\n",
       "      <td>NaN</td>\n",
       "    </tr>\n",
       "    <tr>\n",
       "      <td>7</td>\n",
       "      <td>2c91808267d2eb4b01682fb1563009f8</td>\n",
       "      <td>2c91808267d2ea5301682f73e9a1093e</td>\n",
       "      <td>MARK_UPDATED</td>\n",
       "      <td>Mary White</td>\n",
       "      <td>Bryan Neer</td>\n",
       "      <td>2019-01-15 14:59:38.000000</td>\n",
       "      <td>2019-07-01 00:00:00.000000</td>\n",
       "      <td>07:30:00</td>\n",
       "      <td>19:00:00</td>\n",
       "      <td>MRAH OR 03</td>\n",
       "      <td>CENTER</td>\n",
       "      <td>2019-01-15 13:52:32.000000</td>\n",
       "    </tr>\n",
       "    <tr>\n",
       "      <td>1</td>\n",
       "      <td>2c91808267d2ea5301683984e52b0bfb</td>\n",
       "      <td>2c91808267d2ea5301683984e52b0bfb</td>\n",
       "      <td>TRANSFER</td>\n",
       "      <td>Raymond Smith</td>\n",
       "      <td>Charles Mcdonald</td>\n",
       "      <td>2019-01-17 12:47:17.000000</td>\n",
       "      <td>2019-06-20 00:00:00.000000</td>\n",
       "      <td>07:30:00</td>\n",
       "      <td>19:00:00</td>\n",
       "      <td>MRAH OR 06</td>\n",
       "      <td>CENTER</td>\n",
       "      <td>NaN</td>\n",
       "    </tr>\n",
       "    <tr>\n",
       "      <td>27</td>\n",
       "      <td>2c918082683a181c01683d381d24004b</td>\n",
       "      <td>2c91808267d2ea5301683984e52b0bfb</td>\n",
       "      <td>APPROVE_TRANSFER</td>\n",
       "      <td>Daniel Bryant</td>\n",
       "      <td>Charles Mcdonald</td>\n",
       "      <td>2019-01-18 06:01:54.000000</td>\n",
       "      <td>2019-06-20 00:00:00.000000</td>\n",
       "      <td>07:30:00</td>\n",
       "      <td>19:00:00</td>\n",
       "      <td>MRAH OR 06</td>\n",
       "      <td>CENTER</td>\n",
       "      <td>2019-01-17 12:47:17.000000</td>\n",
       "    </tr>\n",
       "    <tr>\n",
       "      <td>28</td>\n",
       "      <td>2c918082683a181c01683d383c31004c</td>\n",
       "      <td>2c91808267d2ea5301683984e52b0bfb</td>\n",
       "      <td>MARK_UPDATED</td>\n",
       "      <td>Daniel Bryant</td>\n",
       "      <td>Charles Mcdonald</td>\n",
       "      <td>2019-01-18 06:02:02.000000</td>\n",
       "      <td>2019-06-20 00:00:00.000000</td>\n",
       "      <td>07:30:00</td>\n",
       "      <td>19:00:00</td>\n",
       "      <td>MRAH OR 06</td>\n",
       "      <td>CENTER</td>\n",
       "      <td>2019-01-18 06:01:54.000000</td>\n",
       "    </tr>\n",
       "  </tbody>\n",
       "</table>\n",
       "</div>"
      ],
      "text/plain": [
       "                      transaction_id             parent_transaction_id  \\\n",
       "0   2c91808267d2ea5301682f73e9a1093e  2c91808267d2ea5301682f73e9a1093e   \n",
       "7   2c91808267d2eb4b01682fb1563009f8  2c91808267d2ea5301682f73e9a1093e   \n",
       "1   2c91808267d2ea5301683984e52b0bfb  2c91808267d2ea5301683984e52b0bfb   \n",
       "27  2c918082683a181c01683d381d24004b  2c91808267d2ea5301683984e52b0bfb   \n",
       "28  2c918082683a181c01683d383c31004c  2c91808267d2ea5301683984e52b0bfb   \n",
       "\n",
       "              action       scheduler           surgeon  \\\n",
       "0            RELEASE  Jessie Shelley        Bryan Neer   \n",
       "7       MARK_UPDATED      Mary White        Bryan Neer   \n",
       "1           TRANSFER   Raymond Smith  Charles Mcdonald   \n",
       "27  APPROVE_TRANSFER   Daniel Bryant  Charles Mcdonald   \n",
       "28      MARK_UPDATED   Daniel Bryant  Charles Mcdonald   \n",
       "\n",
       "              created_datetime               snapshot_date start_time  \\\n",
       "0   2019-01-15 13:52:32.000000  2019-07-01 00:00:00.000000   07:30:00   \n",
       "7   2019-01-15 14:59:38.000000  2019-07-01 00:00:00.000000   07:30:00   \n",
       "1   2019-01-17 12:47:17.000000  2019-06-20 00:00:00.000000   07:30:00   \n",
       "27  2019-01-18 06:01:54.000000  2019-06-20 00:00:00.000000   07:30:00   \n",
       "28  2019-01-18 06:02:02.000000  2019-06-20 00:00:00.000000   07:30:00   \n",
       "\n",
       "    end_time   room_name location               prev_datetime  \n",
       "0   19:00:00  MRAH OR 03   CENTER                         NaN  \n",
       "7   19:00:00  MRAH OR 03   CENTER  2019-01-15 13:52:32.000000  \n",
       "1   19:00:00  MRAH OR 06   CENTER                         NaN  \n",
       "27  19:00:00  MRAH OR 06   CENTER  2019-01-17 12:47:17.000000  \n",
       "28  19:00:00  MRAH OR 06   CENTER  2019-01-18 06:01:54.000000  "
      ]
     },
     "execution_count": 60,
     "metadata": {},
     "output_type": "execute_result"
    }
   ],
   "source": [
    "df_no_dup['prev_datetime']=df_no_dup.groupby('parent_transaction_id')['created_datetime'].shift(1)\n",
    "df_no_dup.sort_values(['parent_transaction_id','created_datetime'],inplace=True)\n",
    "df_req=df_no_dup\n",
    "df_req.head(5)"
   ]
  },
  {
   "cell_type": "markdown",
   "metadata": {},
   "source": [
    "#### There is no previous time of the first transaction of every Exchange request , So removing that to get the response time "
   ]
  },
  {
   "cell_type": "code",
   "execution_count": 61,
   "metadata": {},
   "outputs": [
    {
     "data": {
      "text/html": [
       "<div>\n",
       "<style scoped>\n",
       "    .dataframe tbody tr th:only-of-type {\n",
       "        vertical-align: middle;\n",
       "    }\n",
       "\n",
       "    .dataframe tbody tr th {\n",
       "        vertical-align: top;\n",
       "    }\n",
       "\n",
       "    .dataframe thead th {\n",
       "        text-align: right;\n",
       "    }\n",
       "</style>\n",
       "<table border=\"1\" class=\"dataframe\">\n",
       "  <thead>\n",
       "    <tr style=\"text-align: right;\">\n",
       "      <th></th>\n",
       "      <th>transaction_id</th>\n",
       "      <th>parent_transaction_id</th>\n",
       "      <th>action</th>\n",
       "      <th>scheduler</th>\n",
       "      <th>surgeon</th>\n",
       "      <th>created_datetime</th>\n",
       "      <th>snapshot_date</th>\n",
       "      <th>start_time</th>\n",
       "      <th>end_time</th>\n",
       "      <th>room_name</th>\n",
       "      <th>location</th>\n",
       "      <th>prev_datetime</th>\n",
       "    </tr>\n",
       "  </thead>\n",
       "  <tbody>\n",
       "    <tr>\n",
       "      <td>7</td>\n",
       "      <td>2c91808267d2eb4b01682fb1563009f8</td>\n",
       "      <td>2c91808267d2ea5301682f73e9a1093e</td>\n",
       "      <td>MARK_UPDATED</td>\n",
       "      <td>Mary White</td>\n",
       "      <td>Bryan Neer</td>\n",
       "      <td>2019-01-15 14:59:38.000000</td>\n",
       "      <td>2019-07-01 00:00:00.000000</td>\n",
       "      <td>07:30:00</td>\n",
       "      <td>19:00:00</td>\n",
       "      <td>MRAH OR 03</td>\n",
       "      <td>CENTER</td>\n",
       "      <td>2019-01-15 13:52:32.000000</td>\n",
       "    </tr>\n",
       "    <tr>\n",
       "      <td>27</td>\n",
       "      <td>2c918082683a181c01683d381d24004b</td>\n",
       "      <td>2c91808267d2ea5301683984e52b0bfb</td>\n",
       "      <td>APPROVE_TRANSFER</td>\n",
       "      <td>Daniel Bryant</td>\n",
       "      <td>Charles Mcdonald</td>\n",
       "      <td>2019-01-18 06:01:54.000000</td>\n",
       "      <td>2019-06-20 00:00:00.000000</td>\n",
       "      <td>07:30:00</td>\n",
       "      <td>19:00:00</td>\n",
       "      <td>MRAH OR 06</td>\n",
       "      <td>CENTER</td>\n",
       "      <td>2019-01-17 12:47:17.000000</td>\n",
       "    </tr>\n",
       "    <tr>\n",
       "      <td>28</td>\n",
       "      <td>2c918082683a181c01683d383c31004c</td>\n",
       "      <td>2c91808267d2ea5301683984e52b0bfb</td>\n",
       "      <td>MARK_UPDATED</td>\n",
       "      <td>Daniel Bryant</td>\n",
       "      <td>Charles Mcdonald</td>\n",
       "      <td>2019-01-18 06:02:02.000000</td>\n",
       "      <td>2019-06-20 00:00:00.000000</td>\n",
       "      <td>07:30:00</td>\n",
       "      <td>19:00:00</td>\n",
       "      <td>MRAH OR 06</td>\n",
       "      <td>CENTER</td>\n",
       "      <td>2019-01-18 06:01:54.000000</td>\n",
       "    </tr>\n",
       "    <tr>\n",
       "      <td>25</td>\n",
       "      <td>2c918082683a181c01683d3543ce0043</td>\n",
       "      <td>2c91808267d2ea53016839855a480bfc</td>\n",
       "      <td>APPROVE_TRANSFER</td>\n",
       "      <td>Daniel Bryant</td>\n",
       "      <td>Charles Mcdonald</td>\n",
       "      <td>2019-01-18 05:58:48.000000</td>\n",
       "      <td>2019-06-20 00:00:00.000000</td>\n",
       "      <td>07:30:00</td>\n",
       "      <td>19:00:00</td>\n",
       "      <td>MNOR 36</td>\n",
       "      <td>CENTER</td>\n",
       "      <td>2019-01-17 12:47:47.000000</td>\n",
       "    </tr>\n",
       "    <tr>\n",
       "      <td>26</td>\n",
       "      <td>2c918082683a181c01683d37cb130049</td>\n",
       "      <td>2c91808267d2ea53016839855a480bfc</td>\n",
       "      <td>MARK_UPDATED</td>\n",
       "      <td>Daniel Bryant</td>\n",
       "      <td>Charles Mcdonald</td>\n",
       "      <td>2019-01-18 06:01:33.000000</td>\n",
       "      <td>2019-06-20 00:00:00.000000</td>\n",
       "      <td>07:30:00</td>\n",
       "      <td>19:00:00</td>\n",
       "      <td>MNOR 36</td>\n",
       "      <td>CENTER</td>\n",
       "      <td>2019-01-18 05:58:48.000000</td>\n",
       "    </tr>\n",
       "  </tbody>\n",
       "</table>\n",
       "</div>"
      ],
      "text/plain": [
       "                      transaction_id             parent_transaction_id  \\\n",
       "7   2c91808267d2eb4b01682fb1563009f8  2c91808267d2ea5301682f73e9a1093e   \n",
       "27  2c918082683a181c01683d381d24004b  2c91808267d2ea5301683984e52b0bfb   \n",
       "28  2c918082683a181c01683d383c31004c  2c91808267d2ea5301683984e52b0bfb   \n",
       "25  2c918082683a181c01683d3543ce0043  2c91808267d2ea53016839855a480bfc   \n",
       "26  2c918082683a181c01683d37cb130049  2c91808267d2ea53016839855a480bfc   \n",
       "\n",
       "              action      scheduler           surgeon  \\\n",
       "7       MARK_UPDATED     Mary White        Bryan Neer   \n",
       "27  APPROVE_TRANSFER  Daniel Bryant  Charles Mcdonald   \n",
       "28      MARK_UPDATED  Daniel Bryant  Charles Mcdonald   \n",
       "25  APPROVE_TRANSFER  Daniel Bryant  Charles Mcdonald   \n",
       "26      MARK_UPDATED  Daniel Bryant  Charles Mcdonald   \n",
       "\n",
       "              created_datetime               snapshot_date start_time  \\\n",
       "7   2019-01-15 14:59:38.000000  2019-07-01 00:00:00.000000   07:30:00   \n",
       "27  2019-01-18 06:01:54.000000  2019-06-20 00:00:00.000000   07:30:00   \n",
       "28  2019-01-18 06:02:02.000000  2019-06-20 00:00:00.000000   07:30:00   \n",
       "25  2019-01-18 05:58:48.000000  2019-06-20 00:00:00.000000   07:30:00   \n",
       "26  2019-01-18 06:01:33.000000  2019-06-20 00:00:00.000000   07:30:00   \n",
       "\n",
       "    end_time   room_name location               prev_datetime  \n",
       "7   19:00:00  MRAH OR 03   CENTER  2019-01-15 13:52:32.000000  \n",
       "27  19:00:00  MRAH OR 06   CENTER  2019-01-17 12:47:17.000000  \n",
       "28  19:00:00  MRAH OR 06   CENTER  2019-01-18 06:01:54.000000  \n",
       "25  19:00:00     MNOR 36   CENTER  2019-01-17 12:47:47.000000  \n",
       "26  19:00:00     MNOR 36   CENTER  2019-01-18 05:58:48.000000  "
      ]
     },
     "execution_count": 61,
     "metadata": {},
     "output_type": "execute_result"
    }
   ],
   "source": [
    "df_final=df_req[df_req['prev_datetime'].notnull()]\n",
    "df_final.head(5)"
   ]
  },
  {
   "cell_type": "markdown",
   "metadata": {},
   "source": [
    "### Creating a separate dataframe for request wise ,action wise analysis"
   ]
  },
  {
   "cell_type": "code",
   "execution_count": 62,
   "metadata": {},
   "outputs": [
    {
     "data": {
      "text/html": [
       "<div>\n",
       "<style scoped>\n",
       "    .dataframe tbody tr th:only-of-type {\n",
       "        vertical-align: middle;\n",
       "    }\n",
       "\n",
       "    .dataframe tbody tr th {\n",
       "        vertical-align: top;\n",
       "    }\n",
       "\n",
       "    .dataframe thead th {\n",
       "        text-align: right;\n",
       "    }\n",
       "</style>\n",
       "<table border=\"1\" class=\"dataframe\">\n",
       "  <thead>\n",
       "    <tr style=\"text-align: right;\">\n",
       "      <th></th>\n",
       "      <th>transaction_id</th>\n",
       "      <th>parent_transaction_id</th>\n",
       "      <th>action</th>\n",
       "      <th>created_datetime</th>\n",
       "      <th>prev_datetime</th>\n",
       "    </tr>\n",
       "  </thead>\n",
       "  <tbody>\n",
       "    <tr>\n",
       "      <td>7</td>\n",
       "      <td>2c91808267d2eb4b01682fb1563009f8</td>\n",
       "      <td>2c91808267d2ea5301682f73e9a1093e</td>\n",
       "      <td>MARK_UPDATED</td>\n",
       "      <td>2019-01-15 14:59:38.000000</td>\n",
       "      <td>2019-01-15 13:52:32.000000</td>\n",
       "    </tr>\n",
       "    <tr>\n",
       "      <td>27</td>\n",
       "      <td>2c918082683a181c01683d381d24004b</td>\n",
       "      <td>2c91808267d2ea5301683984e52b0bfb</td>\n",
       "      <td>APPROVE_TRANSFER</td>\n",
       "      <td>2019-01-18 06:01:54.000000</td>\n",
       "      <td>2019-01-17 12:47:17.000000</td>\n",
       "    </tr>\n",
       "    <tr>\n",
       "      <td>28</td>\n",
       "      <td>2c918082683a181c01683d383c31004c</td>\n",
       "      <td>2c91808267d2ea5301683984e52b0bfb</td>\n",
       "      <td>MARK_UPDATED</td>\n",
       "      <td>2019-01-18 06:02:02.000000</td>\n",
       "      <td>2019-01-18 06:01:54.000000</td>\n",
       "    </tr>\n",
       "    <tr>\n",
       "      <td>25</td>\n",
       "      <td>2c918082683a181c01683d3543ce0043</td>\n",
       "      <td>2c91808267d2ea53016839855a480bfc</td>\n",
       "      <td>APPROVE_TRANSFER</td>\n",
       "      <td>2019-01-18 05:58:48.000000</td>\n",
       "      <td>2019-01-17 12:47:47.000000</td>\n",
       "    </tr>\n",
       "    <tr>\n",
       "      <td>26</td>\n",
       "      <td>2c918082683a181c01683d37cb130049</td>\n",
       "      <td>2c91808267d2ea53016839855a480bfc</td>\n",
       "      <td>MARK_UPDATED</td>\n",
       "      <td>2019-01-18 06:01:33.000000</td>\n",
       "      <td>2019-01-18 05:58:48.000000</td>\n",
       "    </tr>\n",
       "  </tbody>\n",
       "</table>\n",
       "</div>"
      ],
      "text/plain": [
       "                      transaction_id             parent_transaction_id  \\\n",
       "7   2c91808267d2eb4b01682fb1563009f8  2c91808267d2ea5301682f73e9a1093e   \n",
       "27  2c918082683a181c01683d381d24004b  2c91808267d2ea5301683984e52b0bfb   \n",
       "28  2c918082683a181c01683d383c31004c  2c91808267d2ea5301683984e52b0bfb   \n",
       "25  2c918082683a181c01683d3543ce0043  2c91808267d2ea53016839855a480bfc   \n",
       "26  2c918082683a181c01683d37cb130049  2c91808267d2ea53016839855a480bfc   \n",
       "\n",
       "              action            created_datetime               prev_datetime  \n",
       "7       MARK_UPDATED  2019-01-15 14:59:38.000000  2019-01-15 13:52:32.000000  \n",
       "27  APPROVE_TRANSFER  2019-01-18 06:01:54.000000  2019-01-17 12:47:17.000000  \n",
       "28      MARK_UPDATED  2019-01-18 06:02:02.000000  2019-01-18 06:01:54.000000  \n",
       "25  APPROVE_TRANSFER  2019-01-18 05:58:48.000000  2019-01-17 12:47:47.000000  \n",
       "26      MARK_UPDATED  2019-01-18 06:01:33.000000  2019-01-18 05:58:48.000000  "
      ]
     },
     "execution_count": 62,
     "metadata": {},
     "output_type": "execute_result"
    }
   ],
   "source": [
    "df_resp_time=df_final[['transaction_id','parent_transaction_id','action','created_datetime','prev_datetime']]\n",
    "df_resp_time.head(5)\n",
    "#df_no_dup.loc[df_no_dup['response_datetime'].notnull(),['transaction_id','parent_transaction_id','action','created_datetime','response_datetime']]"
   ]
  },
  {
   "cell_type": "markdown",
   "metadata": {},
   "source": [
    "### Response time calculation of every action/response"
   ]
  },
  {
   "cell_type": "code",
   "execution_count": 63,
   "metadata": {},
   "outputs": [
    {
     "data": {
      "text/html": [
       "<div>\n",
       "<style scoped>\n",
       "    .dataframe tbody tr th:only-of-type {\n",
       "        vertical-align: middle;\n",
       "    }\n",
       "\n",
       "    .dataframe tbody tr th {\n",
       "        vertical-align: top;\n",
       "    }\n",
       "\n",
       "    .dataframe thead th {\n",
       "        text-align: right;\n",
       "    }\n",
       "</style>\n",
       "<table border=\"1\" class=\"dataframe\">\n",
       "  <thead>\n",
       "    <tr style=\"text-align: right;\">\n",
       "      <th></th>\n",
       "      <th>transaction_id</th>\n",
       "      <th>parent_transaction_id</th>\n",
       "      <th>action</th>\n",
       "      <th>created_datetime</th>\n",
       "      <th>prev_datetime</th>\n",
       "      <th>response_time</th>\n",
       "      <th>resp_time_min</th>\n",
       "    </tr>\n",
       "  </thead>\n",
       "  <tbody>\n",
       "    <tr>\n",
       "      <td>7</td>\n",
       "      <td>2c91808267d2eb4b01682fb1563009f8</td>\n",
       "      <td>2c91808267d2ea5301682f73e9a1093e</td>\n",
       "      <td>MARK_UPDATED</td>\n",
       "      <td>2019-01-15 14:59:38.000000</td>\n",
       "      <td>2019-01-15 13:52:32.000000</td>\n",
       "      <td>01:07:06</td>\n",
       "      <td>67.100000</td>\n",
       "    </tr>\n",
       "    <tr>\n",
       "      <td>27</td>\n",
       "      <td>2c918082683a181c01683d381d24004b</td>\n",
       "      <td>2c91808267d2ea5301683984e52b0bfb</td>\n",
       "      <td>APPROVE_TRANSFER</td>\n",
       "      <td>2019-01-18 06:01:54.000000</td>\n",
       "      <td>2019-01-17 12:47:17.000000</td>\n",
       "      <td>17:14:37</td>\n",
       "      <td>1034.616667</td>\n",
       "    </tr>\n",
       "    <tr>\n",
       "      <td>28</td>\n",
       "      <td>2c918082683a181c01683d383c31004c</td>\n",
       "      <td>2c91808267d2ea5301683984e52b0bfb</td>\n",
       "      <td>MARK_UPDATED</td>\n",
       "      <td>2019-01-18 06:02:02.000000</td>\n",
       "      <td>2019-01-18 06:01:54.000000</td>\n",
       "      <td>00:00:08</td>\n",
       "      <td>0.133333</td>\n",
       "    </tr>\n",
       "    <tr>\n",
       "      <td>25</td>\n",
       "      <td>2c918082683a181c01683d3543ce0043</td>\n",
       "      <td>2c91808267d2ea53016839855a480bfc</td>\n",
       "      <td>APPROVE_TRANSFER</td>\n",
       "      <td>2019-01-18 05:58:48.000000</td>\n",
       "      <td>2019-01-17 12:47:47.000000</td>\n",
       "      <td>17:11:01</td>\n",
       "      <td>1031.016667</td>\n",
       "    </tr>\n",
       "    <tr>\n",
       "      <td>26</td>\n",
       "      <td>2c918082683a181c01683d37cb130049</td>\n",
       "      <td>2c91808267d2ea53016839855a480bfc</td>\n",
       "      <td>MARK_UPDATED</td>\n",
       "      <td>2019-01-18 06:01:33.000000</td>\n",
       "      <td>2019-01-18 05:58:48.000000</td>\n",
       "      <td>00:02:45</td>\n",
       "      <td>2.750000</td>\n",
       "    </tr>\n",
       "  </tbody>\n",
       "</table>\n",
       "</div>"
      ],
      "text/plain": [
       "                      transaction_id             parent_transaction_id  \\\n",
       "7   2c91808267d2eb4b01682fb1563009f8  2c91808267d2ea5301682f73e9a1093e   \n",
       "27  2c918082683a181c01683d381d24004b  2c91808267d2ea5301683984e52b0bfb   \n",
       "28  2c918082683a181c01683d383c31004c  2c91808267d2ea5301683984e52b0bfb   \n",
       "25  2c918082683a181c01683d3543ce0043  2c91808267d2ea53016839855a480bfc   \n",
       "26  2c918082683a181c01683d37cb130049  2c91808267d2ea53016839855a480bfc   \n",
       "\n",
       "              action            created_datetime               prev_datetime  \\\n",
       "7       MARK_UPDATED  2019-01-15 14:59:38.000000  2019-01-15 13:52:32.000000   \n",
       "27  APPROVE_TRANSFER  2019-01-18 06:01:54.000000  2019-01-17 12:47:17.000000   \n",
       "28      MARK_UPDATED  2019-01-18 06:02:02.000000  2019-01-18 06:01:54.000000   \n",
       "25  APPROVE_TRANSFER  2019-01-18 05:58:48.000000  2019-01-17 12:47:47.000000   \n",
       "26      MARK_UPDATED  2019-01-18 06:01:33.000000  2019-01-18 05:58:48.000000   \n",
       "\n",
       "   response_time  resp_time_min  \n",
       "7       01:07:06      67.100000  \n",
       "27      17:14:37    1034.616667  \n",
       "28      00:00:08       0.133333  \n",
       "25      17:11:01    1031.016667  \n",
       "26      00:02:45       2.750000  "
      ]
     },
     "execution_count": 63,
     "metadata": {},
     "output_type": "execute_result"
    }
   ],
   "source": [
    "df_resp_time['response_time']=pd.to_datetime(df_resp_time['created_datetime'])-pd.to_datetime(df_resp_time['prev_datetime'])\n",
    "df_resp_time['resp_time_min']=df_resp_time['response_time'].apply(lambda x: x/np.timedelta64(1,'m'))\n",
    "df_resp_time.head(5)"
   ]
  },
  {
   "cell_type": "code",
   "execution_count": 79,
   "metadata": {},
   "outputs": [
    {
     "data": {
      "text/plain": [
       "4162"
      ]
     },
     "execution_count": 79,
     "metadata": {},
     "output_type": "execute_result"
    }
   ],
   "source": [
    "df_resp_time['parent_transaction_id'].count()"
   ]
  },
  {
   "cell_type": "markdown",
   "metadata": {},
   "source": [
    "### Number of Exchange transactions with average response time less than 10 mins"
   ]
  },
  {
   "cell_type": "code",
   "execution_count": 76,
   "metadata": {},
   "outputs": [
    {
     "data": {
      "text/plain": [
       "2302"
      ]
     },
     "execution_count": 76,
     "metadata": {},
     "output_type": "execute_result"
    }
   ],
   "source": [
    "df_resp_time[df_resp_time['resp_time_min']<=10].parent_transaction_id.count()"
   ]
  },
  {
   "cell_type": "markdown",
   "metadata": {},
   "source": [
    "#### Finding: out of 4162 the Exchange transactions 2302 responses has less than 10 minutes response time"
   ]
  },
  {
   "cell_type": "markdown",
   "metadata": {},
   "source": [
    "#### Creating a Day column for Day wise analysis"
   ]
  },
  {
   "cell_type": "code",
   "execution_count": 64,
   "metadata": {},
   "outputs": [
    {
     "data": {
      "text/html": [
       "<div>\n",
       "<style scoped>\n",
       "    .dataframe tbody tr th:only-of-type {\n",
       "        vertical-align: middle;\n",
       "    }\n",
       "\n",
       "    .dataframe tbody tr th {\n",
       "        vertical-align: top;\n",
       "    }\n",
       "\n",
       "    .dataframe thead th {\n",
       "        text-align: right;\n",
       "    }\n",
       "</style>\n",
       "<table border=\"1\" class=\"dataframe\">\n",
       "  <thead>\n",
       "    <tr style=\"text-align: right;\">\n",
       "      <th></th>\n",
       "      <th>transaction_id</th>\n",
       "      <th>parent_transaction_id</th>\n",
       "      <th>action</th>\n",
       "      <th>created_datetime</th>\n",
       "      <th>prev_datetime</th>\n",
       "      <th>response_time</th>\n",
       "      <th>resp_time_min</th>\n",
       "      <th>prev_date</th>\n",
       "    </tr>\n",
       "  </thead>\n",
       "  <tbody>\n",
       "    <tr>\n",
       "      <td>7</td>\n",
       "      <td>2c91808267d2eb4b01682fb1563009f8</td>\n",
       "      <td>2c91808267d2ea5301682f73e9a1093e</td>\n",
       "      <td>MARK_UPDATED</td>\n",
       "      <td>2019-01-15 14:59:38.000000</td>\n",
       "      <td>2019-01-15 13:52:32.000000</td>\n",
       "      <td>01:07:06</td>\n",
       "      <td>67.100000</td>\n",
       "      <td>Tuesday</td>\n",
       "    </tr>\n",
       "    <tr>\n",
       "      <td>27</td>\n",
       "      <td>2c918082683a181c01683d381d24004b</td>\n",
       "      <td>2c91808267d2ea5301683984e52b0bfb</td>\n",
       "      <td>APPROVE_TRANSFER</td>\n",
       "      <td>2019-01-18 06:01:54.000000</td>\n",
       "      <td>2019-01-17 12:47:17.000000</td>\n",
       "      <td>17:14:37</td>\n",
       "      <td>1034.616667</td>\n",
       "      <td>Thursday</td>\n",
       "    </tr>\n",
       "    <tr>\n",
       "      <td>28</td>\n",
       "      <td>2c918082683a181c01683d383c31004c</td>\n",
       "      <td>2c91808267d2ea5301683984e52b0bfb</td>\n",
       "      <td>MARK_UPDATED</td>\n",
       "      <td>2019-01-18 06:02:02.000000</td>\n",
       "      <td>2019-01-18 06:01:54.000000</td>\n",
       "      <td>00:00:08</td>\n",
       "      <td>0.133333</td>\n",
       "      <td>Friday</td>\n",
       "    </tr>\n",
       "    <tr>\n",
       "      <td>25</td>\n",
       "      <td>2c918082683a181c01683d3543ce0043</td>\n",
       "      <td>2c91808267d2ea53016839855a480bfc</td>\n",
       "      <td>APPROVE_TRANSFER</td>\n",
       "      <td>2019-01-18 05:58:48.000000</td>\n",
       "      <td>2019-01-17 12:47:47.000000</td>\n",
       "      <td>17:11:01</td>\n",
       "      <td>1031.016667</td>\n",
       "      <td>Thursday</td>\n",
       "    </tr>\n",
       "    <tr>\n",
       "      <td>26</td>\n",
       "      <td>2c918082683a181c01683d37cb130049</td>\n",
       "      <td>2c91808267d2ea53016839855a480bfc</td>\n",
       "      <td>MARK_UPDATED</td>\n",
       "      <td>2019-01-18 06:01:33.000000</td>\n",
       "      <td>2019-01-18 05:58:48.000000</td>\n",
       "      <td>00:02:45</td>\n",
       "      <td>2.750000</td>\n",
       "      <td>Friday</td>\n",
       "    </tr>\n",
       "  </tbody>\n",
       "</table>\n",
       "</div>"
      ],
      "text/plain": [
       "                      transaction_id             parent_transaction_id  \\\n",
       "7   2c91808267d2eb4b01682fb1563009f8  2c91808267d2ea5301682f73e9a1093e   \n",
       "27  2c918082683a181c01683d381d24004b  2c91808267d2ea5301683984e52b0bfb   \n",
       "28  2c918082683a181c01683d383c31004c  2c91808267d2ea5301683984e52b0bfb   \n",
       "25  2c918082683a181c01683d3543ce0043  2c91808267d2ea53016839855a480bfc   \n",
       "26  2c918082683a181c01683d37cb130049  2c91808267d2ea53016839855a480bfc   \n",
       "\n",
       "              action            created_datetime               prev_datetime  \\\n",
       "7       MARK_UPDATED  2019-01-15 14:59:38.000000  2019-01-15 13:52:32.000000   \n",
       "27  APPROVE_TRANSFER  2019-01-18 06:01:54.000000  2019-01-17 12:47:17.000000   \n",
       "28      MARK_UPDATED  2019-01-18 06:02:02.000000  2019-01-18 06:01:54.000000   \n",
       "25  APPROVE_TRANSFER  2019-01-18 05:58:48.000000  2019-01-17 12:47:47.000000   \n",
       "26      MARK_UPDATED  2019-01-18 06:01:33.000000  2019-01-18 05:58:48.000000   \n",
       "\n",
       "   response_time  resp_time_min prev_date  \n",
       "7       01:07:06      67.100000   Tuesday  \n",
       "27      17:14:37    1034.616667  Thursday  \n",
       "28      00:00:08       0.133333    Friday  \n",
       "25      17:11:01    1031.016667  Thursday  \n",
       "26      00:02:45       2.750000    Friday  "
      ]
     },
     "execution_count": 64,
     "metadata": {},
     "output_type": "execute_result"
    }
   ],
   "source": [
    "df_resp_time['prev_date'] = pd.to_datetime(df_resp_time['prev_datetime']).dt.strftime('%A')\n",
    "#df_resp_time['day'] = pd.to_datetime(df_resp_time['prev_datetime']).dt.strftime('%d')\n",
    "df_resp_time.head(5)\n",
    "#df_resp_time.to_csv('LeanTaas.csv')"
   ]
  },
  {
   "cell_type": "markdown",
   "metadata": {},
   "source": [
    "#### Actionwise avergage response time in minutes:"
   ]
  },
  {
   "cell_type": "code",
   "execution_count": 66,
   "metadata": {},
   "outputs": [
    {
     "data": {
      "text/plain": [
       "action\n",
       "APPROVE_REQUEST      643.711060\n",
       "APPROVE_TRANSFER     263.992654\n",
       "DENY_RELEASE         310.790741\n",
       "DENY_REQUEST        1496.534217\n",
       "DENY_TRANSFER       5256.573333\n",
       "MARK_UPDATED         284.758467\n",
       "RELEASE             -249.774060\n",
       "REQUEST             -313.086020\n",
       "TRANSFER            -297.401732\n",
       "Name: resp_time_min, dtype: float64"
      ]
     },
     "execution_count": 66,
     "metadata": {},
     "output_type": "execute_result"
    }
   ],
   "source": [
    "df=df_resp_time.groupby('action').resp_time_min.mean()\n",
    "df.head(10)"
   ]
  },
  {
   "cell_type": "code",
   "execution_count": 67,
   "metadata": {},
   "outputs": [
    {
     "data": {
      "image/png": "[encoded data removed]",
      "text/plain": [
       "<Figure size 432x288 with 1 Axes>"
      ]
     },
     "metadata": {
      "needs_background": "light"
     },
     "output_type": "display_data"
    }
   ],
   "source": [
    "plt.plot(df_resp_time.groupby('action').resp_time_min.mean())\n",
    "#plt.yticks(y_pos, txn_id)\n",
    "plt.xticks(rotation=90)\n",
    "plt.xlabel('Actions')\n",
    "plt.ylabel('Avg. Response Time in Minutes------>')\n",
    "plt.title('Action wise average Response in Minutes')\n",
    "plt.show()"
   ]
  },
  {
   "cell_type": "code",
   "execution_count": 68,
   "metadata": {},
   "outputs": [
    {
     "data": {
      "text/plain": [
       "([0, 1, 2, 3, 4, 5, 6, 7, 8], <a list of 9 Text xticklabel objects>)"
      ]
     },
     "execution_count": 68,
     "metadata": {},
     "output_type": "execute_result"
    },
    {
     "data": {
      "image/png": "[encoded data removed]",
      "text/plain": [
       "<Figure size 432x288 with 1 Axes>"
      ]
     },
     "metadata": {
      "needs_background": "light"
     },
     "output_type": "display_data"
    }
   ],
   "source": [
    "df_resp_time['action'].hist()\n",
    "plt.xticks(rotation=90)"
   ]
  },
  {
   "cell_type": "markdown",
   "metadata": {},
   "source": [
    "### Daywise response analysis"
   ]
  },
  {
   "cell_type": "code",
   "execution_count": 69,
   "metadata": {},
   "outputs": [
    {
     "data": {
      "text/plain": [
       "prev_date\n",
       "Friday        279.634291\n",
       "Monday        175.439436\n",
       "Saturday     2569.953333\n",
       "Sunday       2301.533333\n",
       "Thursday      424.880628\n",
       "Tuesday       217.067741\n",
       "Wednesday     344.446315\n",
       "Name: resp_time_min, dtype: float64"
      ]
     },
     "execution_count": 69,
     "metadata": {},
     "output_type": "execute_result"
    }
   ],
   "source": [
    "df=df_resp_time.groupby('prev_date').resp_time_min.mean()\n",
    "df.head(10)"
   ]
  },
  {
   "cell_type": "code",
   "execution_count": 70,
   "metadata": {},
   "outputs": [
    {
     "data": {
      "image/png": "[encoded data removed]",
      "text/plain": [
       "<Figure size 432x288 with 1 Axes>"
      ]
     },
     "metadata": {
      "needs_background": "light"
     },
     "output_type": "display_data"
    }
   ],
   "source": [
    "plt.plot(df_resp_time.groupby('prev_date').resp_time_min.mean())\n",
    "#plt.yticks(y_pos, txn_id)\n",
    "plt.xlabel('Days of the Weeks')\n",
    "plt.ylabel('Avg. Response Time in Minutes------>')\n",
    "plt.title('Day wise average Response in Minutes')\n",
    "plt.show()"
   ]
  },
  {
   "cell_type": "markdown",
   "metadata": {},
   "source": [
    "### Approval and Rejection rate"
   ]
  },
  {
   "cell_type": "code",
   "execution_count": 22,
   "metadata": {},
   "outputs": [
    {
     "data": {
      "text/html": [
       "<div>\n",
       "<style scoped>\n",
       "    .dataframe tbody tr th:only-of-type {\n",
       "        vertical-align: middle;\n",
       "    }\n",
       "\n",
       "    .dataframe tbody tr th {\n",
       "        vertical-align: top;\n",
       "    }\n",
       "\n",
       "    .dataframe thead th {\n",
       "        text-align: right;\n",
       "    }\n",
       "</style>\n",
       "<table border=\"1\" class=\"dataframe\">\n",
       "  <thead>\n",
       "    <tr style=\"text-align: right;\">\n",
       "      <th></th>\n",
       "      <th>pid</th>\n",
       "      <th>action</th>\n",
       "      <th>start_dt</th>\n",
       "      <th>end_dt</th>\n",
       "    </tr>\n",
       "  </thead>\n",
       "  <tbody>\n",
       "    <tr>\n",
       "      <td>0</td>\n",
       "      <td>2c91808267d2ea5301683984e52b0bfb</td>\n",
       "      <td>APPROVE_TRANSFER</td>\n",
       "      <td>2019-01-18 06:01:54.000000</td>\n",
       "      <td>2019-01-18 06:01:54.000000</td>\n",
       "    </tr>\n",
       "    <tr>\n",
       "      <td>1</td>\n",
       "      <td>2c91808267d2ea53016839855a480bfc</td>\n",
       "      <td>APPROVE_TRANSFER</td>\n",
       "      <td>2019-01-18 05:58:48.000000</td>\n",
       "      <td>2019-01-18 05:58:48.000000</td>\n",
       "    </tr>\n",
       "    <tr>\n",
       "      <td>2</td>\n",
       "      <td>2c918082683a16f801683dbcf9b2006e</td>\n",
       "      <td>APPROVE_TRANSFER</td>\n",
       "      <td>2019-01-18 08:27:01.000000</td>\n",
       "      <td>2019-01-18 08:27:01.000000</td>\n",
       "    </tr>\n",
       "    <tr>\n",
       "      <td>3</td>\n",
       "      <td>2c918082683a16f8016852105c480303</td>\n",
       "      <td>APPROVE_REQUEST</td>\n",
       "      <td>2019-01-22 07:10:30.000000</td>\n",
       "      <td>2019-01-22 07:23:06.000000</td>\n",
       "    </tr>\n",
       "    <tr>\n",
       "      <td>4</td>\n",
       "      <td>2c918082683a181c01684e440a8502b3</td>\n",
       "      <td>APPROVE_TRANSFER</td>\n",
       "      <td>2019-01-22 09:19:01.000000</td>\n",
       "      <td>2019-01-22 09:19:01.000000</td>\n",
       "    </tr>\n",
       "  </tbody>\n",
       "</table>\n",
       "</div>"
      ],
      "text/plain": [
       "                                pid            action  \\\n",
       "0  2c91808267d2ea5301683984e52b0bfb  APPROVE_TRANSFER   \n",
       "1  2c91808267d2ea53016839855a480bfc  APPROVE_TRANSFER   \n",
       "2  2c918082683a16f801683dbcf9b2006e  APPROVE_TRANSFER   \n",
       "3  2c918082683a16f8016852105c480303   APPROVE_REQUEST   \n",
       "4  2c918082683a181c01684e440a8502b3  APPROVE_TRANSFER   \n",
       "\n",
       "                     start_dt                      end_dt  \n",
       "0  2019-01-18 06:01:54.000000  2019-01-18 06:01:54.000000  \n",
       "1  2019-01-18 05:58:48.000000  2019-01-18 05:58:48.000000  \n",
       "2  2019-01-18 08:27:01.000000  2019-01-18 08:27:01.000000  \n",
       "3  2019-01-22 07:10:30.000000  2019-01-22 07:23:06.000000  \n",
       "4  2019-01-22 09:19:01.000000  2019-01-22 09:19:01.000000  "
      ]
     },
     "execution_count": 22,
     "metadata": {},
     "output_type": "execute_result"
    }
   ],
   "source": [
    "#df_rate = pd.read_sql_query('SELECT ifnull(parent_transaction_id,transaction_id) pid, action from exchange_transactions where action in (\"APPROVE_REQUEST\",\"DENY_TRANSFER\")', disk_engine)\n",
    "df_appr = pd.read_sql_query('select ifnull(parent_transaction_id,transaction_id) pid,action, min(created_datetime) start_dt,max(created_datetime)  end_dt from exchange_transactions where action not in (\"TRANSFER\",\"RELEASE\",\"MARK_UPDATED\") Group By ifnull(parent_transaction_id,transaction_id) having action not in (\"REQUEST\")', disk_engine)\n",
    "#df_rate['action'].value_counts()\n",
    "df_appr.head(5)"
   ]
  },
  {
   "cell_type": "code",
   "execution_count": 23,
   "metadata": {},
   "outputs": [
    {
     "data": {
      "text/plain": [
       "APPROVE_REQUEST     1109\n",
       "APPROVE_TRANSFER     256\n",
       "DENY_REQUEST         174\n",
       "DENY_RELEASE          23\n",
       "DENY_TRANSFER          7\n",
       "Name: action, dtype: int64"
      ]
     },
     "execution_count": 23,
     "metadata": {},
     "output_type": "execute_result"
    }
   ],
   "source": [
    "df_appr['action'].value_counts()"
   ]
  },
  {
   "cell_type": "code",
   "execution_count": null,
   "metadata": {},
   "outputs": [],
   "source": [
    "df[(df_appr['action']=='APPROVE_REQUEST') OR (df_appr['action']=='APPROVE_TRANSFER')]"
   ]
  },
  {
   "cell_type": "code",
   "execution_count": 33,
   "metadata": {},
   "outputs": [
    {
     "data": {
      "text/html": [
       "<div>\n",
       "<style scoped>\n",
       "    .dataframe tbody tr th:only-of-type {\n",
       "        vertical-align: middle;\n",
       "    }\n",
       "\n",
       "    .dataframe tbody tr th {\n",
       "        vertical-align: top;\n",
       "    }\n",
       "\n",
       "    .dataframe thead th {\n",
       "        text-align: right;\n",
       "    }\n",
       "</style>\n",
       "<table border=\"1\" class=\"dataframe\">\n",
       "  <thead>\n",
       "    <tr style=\"text-align: right;\">\n",
       "      <th></th>\n",
       "      <th>pid</th>\n",
       "      <th>action</th>\n",
       "      <th>start_dt</th>\n",
       "      <th>end_dt</th>\n",
       "      <th>status</th>\n",
       "    </tr>\n",
       "  </thead>\n",
       "  <tbody>\n",
       "    <tr>\n",
       "      <td>0</td>\n",
       "      <td>2c91808267d2ea5301683984e52b0bfb</td>\n",
       "      <td>APPROVE_TRANSFER</td>\n",
       "      <td>2019-01-18 06:01:54.000000</td>\n",
       "      <td>2019-01-18 06:01:54.000000</td>\n",
       "      <td>Approve</td>\n",
       "    </tr>\n",
       "    <tr>\n",
       "      <td>1</td>\n",
       "      <td>2c91808267d2ea53016839855a480bfc</td>\n",
       "      <td>APPROVE_TRANSFER</td>\n",
       "      <td>2019-01-18 05:58:48.000000</td>\n",
       "      <td>2019-01-18 05:58:48.000000</td>\n",
       "      <td>Approve</td>\n",
       "    </tr>\n",
       "    <tr>\n",
       "      <td>2</td>\n",
       "      <td>2c918082683a16f801683dbcf9b2006e</td>\n",
       "      <td>APPROVE_TRANSFER</td>\n",
       "      <td>2019-01-18 08:27:01.000000</td>\n",
       "      <td>2019-01-18 08:27:01.000000</td>\n",
       "      <td>Approve</td>\n",
       "    </tr>\n",
       "    <tr>\n",
       "      <td>3</td>\n",
       "      <td>2c918082683a16f8016852105c480303</td>\n",
       "      <td>APPROVE_REQUEST</td>\n",
       "      <td>2019-01-22 07:10:30.000000</td>\n",
       "      <td>2019-01-22 07:23:06.000000</td>\n",
       "      <td>Approve</td>\n",
       "    </tr>\n",
       "    <tr>\n",
       "      <td>4</td>\n",
       "      <td>2c918082683a181c01684e440a8502b3</td>\n",
       "      <td>APPROVE_TRANSFER</td>\n",
       "      <td>2019-01-22 09:19:01.000000</td>\n",
       "      <td>2019-01-22 09:19:01.000000</td>\n",
       "      <td>Approve</td>\n",
       "    </tr>\n",
       "  </tbody>\n",
       "</table>\n",
       "</div>"
      ],
      "text/plain": [
       "                                pid            action  \\\n",
       "0  2c91808267d2ea5301683984e52b0bfb  APPROVE_TRANSFER   \n",
       "1  2c91808267d2ea53016839855a480bfc  APPROVE_TRANSFER   \n",
       "2  2c918082683a16f801683dbcf9b2006e  APPROVE_TRANSFER   \n",
       "3  2c918082683a16f8016852105c480303   APPROVE_REQUEST   \n",
       "4  2c918082683a181c01684e440a8502b3  APPROVE_TRANSFER   \n",
       "\n",
       "                     start_dt                      end_dt   status  \n",
       "0  2019-01-18 06:01:54.000000  2019-01-18 06:01:54.000000  Approve  \n",
       "1  2019-01-18 05:58:48.000000  2019-01-18 05:58:48.000000  Approve  \n",
       "2  2019-01-18 08:27:01.000000  2019-01-18 08:27:01.000000  Approve  \n",
       "3  2019-01-22 07:10:30.000000  2019-01-22 07:23:06.000000  Approve  \n",
       "4  2019-01-22 09:19:01.000000  2019-01-22 09:19:01.000000  Approve  "
      ]
     },
     "execution_count": 33,
     "metadata": {},
     "output_type": "execute_result"
    }
   ],
   "source": [
    "conditions = [\n",
    "    (df_appr['action'] == 'APPROVE_REQUEST') | (df_appr['action'] == 'APPROVE_TRANSFER'),\n",
    "    (df_appr['action'] == 'DENY_REQUEST') | (df_appr['action'] == 'DENY_TRANSFER') | (df_appr['action'] == 'DENY_RELEASE'),\n",
    "    (df_appr['action'] == 'REQUEST')]\n",
    "choices = ['Approve', 'Deny', 'Request']\n",
    "df_appr['status'] = np.select(conditions, choices, default='Request')\n",
    "df_appr.head(5)"
   ]
  },
  {
   "cell_type": "code",
   "execution_count": 36,
   "metadata": {},
   "outputs": [
    {
     "data": {
      "text/plain": [
       "Approve    1365\n",
       "Deny        204\n",
       "Name: status, dtype: int64"
      ]
     },
     "execution_count": 36,
     "metadata": {},
     "output_type": "execute_result"
    }
   ],
   "source": [
    "df_appr['status'].value_counts()"
   ]
  },
  {
   "cell_type": "code",
   "execution_count": 28,
   "metadata": {},
   "outputs": [
    {
     "data": {
      "text/plain": [
       "<matplotlib.axes._subplots.AxesSubplot at 0x23a8554dd88>"
      ]
     },
     "execution_count": 28,
     "metadata": {},
     "output_type": "execute_result"
    },
    {
     "data": {
      "image/png": "[encoded data removed]",
      "text/plain": [
       "<Figure size 432x288 with 1 Axes>"
      ]
     },
     "metadata": {
      "needs_background": "light"
     },
     "output_type": "display_data"
    }
   ],
   "source": [
    "df_appr['status'].hist()"
   ]
  },
  {
   "cell_type": "code",
   "execution_count": 29,
   "metadata": {},
   "outputs": [
    {
     "data": {
      "text/plain": [
       "pid         1569\n",
       "action      1569\n",
       "start_dt    1569\n",
       "end_dt      1569\n",
       "status      1569\n",
       "dtype: int64"
      ]
     },
     "execution_count": 29,
     "metadata": {},
     "output_type": "execute_result"
    }
   ],
   "source": [
    "df_appr.count()"
   ]
  },
  {
   "cell_type": "code",
   "execution_count": 32,
   "metadata": {},
   "outputs": [
    {
     "data": {
      "text/plain": [
       "1324"
      ]
     },
     "execution_count": 32,
     "metadata": {},
     "output_type": "execute_result"
    }
   ],
   "source": [
    "df_txn_all[df_txn_all['action']=='REQUEST'].action.count()"
   ]
  },
  {
   "cell_type": "markdown",
   "metadata": {},
   "source": [
    "#### Total number of Approval+Denial records:1569 but total number of Request is 1324 means some of the data are missing.\n",
    "### as per assumption#10 i am considering all rejected and approved record are the result of some request\n",
    "### Number of Exchange request= number of approval+number of denial\n",
    "### 1365+204=1569\n"
   ]
  },
  {
   "cell_type": "code",
   "execution_count": 50,
   "metadata": {},
   "outputs": [
    {
     "name": "stdout",
     "output_type": "stream",
     "text": [
      "Approval rate 86.9980879541109\n",
      "Denial rate 13.001912045889103\n"
     ]
    }
   ],
   "source": [
    "Approval_rate=100*(df_appr[df_appr['status']=='Approve'].status.count()/(df_appr[df_appr['status']=='Approve'].status.count()+df_appr[df_appr['status']=='Deny'].status.count()))\n",
    "print('Approval rate {}'.format(Approval_rate))\n",
    "#print(\"%(key1)s and %(key2)%\" % {'key1':1, 'key2':2})\n",
    "Denial_rate=100*(df_appr[df_appr['status']=='Deny'].status.count()/(df_appr[df_appr['status']=='Approve'].status.count()+df_appr[df_appr['status']=='Deny'].status.count()))\n",
    "print('Denial rate {}'.format(Denial_rate))"
   ]
  },
  {
   "cell_type": "markdown",
   "metadata": {},
   "source": [
    "## <u>Conclusion and Insights:</u>"
   ]
  },
  {
   "cell_type": "markdown",
   "metadata": {},
   "source": [
    "<ul>\n",
    "<li> Compare to all the other actions, mark_updated takes more response time\n",
    " <li>It can be observed that average response time for approval is less than denial  \n",
    " <li> 15 Surgeons out of 357 has requested more than 50 times for Operating Room\n",
    "<li>It is observed that the average response time is pretty high on weekends as compared to weekdays\n",
    "<li>More than 50% transactions has response time less than 10 minutes \n",
    " <li>Avergae approval rate is 87% abd average denial rate is 13%\n",
    " <li>There are few records with multiple entry of with or without Room No. ex.  4.2c9180826ba0b5ad016bb3e4a083067b\n",
    " \n",
    "## <u> Future Scopes :</u>\n",
    "##### 1. Day and Time wise response time analysis\n",
    "##### 2. Prediction of approval or rejection chances of the request based on the past data\n",
    "##### 3. Prediction of approval or rejection response time by taking the day and time as input"
   ]
  }
 ],
 "metadata": {
  "kernelspec": {
   "display_name": "Python 3",
   "language": "python",
   "name": "python3"
  },
  "language_info": {
   "codemirror_mode": {
    "name": "ipython",
    "version": 3
   },
   "file_extension": ".py",
   "mimetype": "text/x-python",
   "name": "python",
   "nbconvert_exporter": "python",
   "pygments_lexer": "ipython3",
   "version": "3.7.4"
  }
 },
 "nbformat": 4,
 "nbformat_minor": 2
}
